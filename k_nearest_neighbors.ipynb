{
 "cells": [
  {
   "cell_type": "code",
   "execution_count": 4,
   "metadata": {},
   "outputs": [
    {
     "name": "stdout",
     "output_type": "stream",
     "text": [
      "(39.2, 19.6, 0)\n",
      "(39.2, 21.1, 0)\n",
      "(39.0, 17.5, 2)\n",
      "(39.0, 17.1, 2)\n",
      "(39.0, 18.7, 1)\n",
      "(39.2, 18.6, 0)\n",
      "(39.3, 20.6, 2)\n",
      "(38.9, 17.8, 2)\n",
      "(38.9, 18.8, 1)\n",
      "(38.8, 17.2, 0)\n",
      "(38.8, 20.0, 2)\n",
      "(38.8, 17.6, 0)\n",
      "(39.5, 17.4, 1)\n",
      "(38.7, 19.0, 0)\n",
      "(39.5, 16.7, 1)\n",
      "(39.5, 17.8, 1)\n",
      "(38.6, 21.2, 2)\n",
      "(39.6, 18.8, 2)\n",
      "(39.6, 17.7, 2)\n",
      "(39.6, 17.2, 2)\n",
      "Введенная точка принадлежит к классу 2\n"
     ]
    }
   ],
   "source": [
    "import pandas as pd\n",
    "PATH_OUT = input('Введите PATH_OUT')\n",
    "\n",
    "\n",
    "def euclidian_distance(x, y):\n",
    "    return sum([(x[i] - y[i])**2 for i in range(len(x) - 1)])**0.5\n",
    "\n",
    "\n",
    "def k_nearest_neighbors(point, k, data):\n",
    "    distances = {}\n",
    "    for i in range(len(data)):\n",
    "        distance = euclidian_distance(point, data[i])\n",
    "        if distance != 0:\n",
    "            distances[i] = distance\n",
    "    distances = sorted(distances, key=lambda x: distances[x])\n",
    "\n",
    "    groups = {}\n",
    "    for i in range(k):\n",
    "        groups.setdefault(data[distances[i]][-1], 0)\n",
    "        groups[data[distances[i]][-1]] += 1\n",
    "        print(data[distances[i]])\n",
    "\n",
    "    groups = sorted(groups, key=lambda x: groups[x], reverse=True)\n",
    "    print('Введенная точка принадлежит к классу', groups[0])\n",
    "\n",
    "\n",
    "predata2 = pd.read_csv(PATH_OUT + '/penguins.csv', usecols=['x', 'y', 'group'])\n",
    "\n",
    "predata = predata2.to_dict()\n",
    "\n",
    "data = []\n",
    "for i in range(predata2.shape[0]):\n",
    "    data.append(tuple(predata[name][i] for name in predata2.columns))\n",
    "\n",
    "k = int(input('Введите k'))\n",
    "point = [float(i) for i in input('Введите координаты точки').split()]\n",
    "        \n",
    "k_nearest_neighbors(point, k, data)\n"
   ]
  }
 ],
 "metadata": {
  "kernelspec": {
   "display_name": "Python 3",
   "language": "python",
   "name": "python3"
  },
  "language_info": {
   "codemirror_mode": {
    "name": "ipython",
    "version": 3
   },
   "file_extension": ".py",
   "mimetype": "text/x-python",
   "name": "python",
   "nbconvert_exporter": "python",
   "pygments_lexer": "ipython3",
   "version": "3.12.3"
  }
 },
 "nbformat": 4,
 "nbformat_minor": 2
}
